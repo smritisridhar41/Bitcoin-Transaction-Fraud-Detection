{
 "cells": [
  {
   "cell_type": "code",
   "execution_count": 1,
   "metadata": {},
   "outputs": [],
   "source": [
    "#PART 1: preprocessing the dataset using node embedding in the network using node2vec algorithm\n",
    "\n",
    "#importing the libraries\n",
    "import pandas as pd\n",
    "import numpy as np\n",
    "import matplotlib.pyplot as plt\n",
    "import csv\n",
    "import itertools\n",
    "%matplotlib inline"
   ]
  },
  {
   "cell_type": "code",
   "execution_count": 2,
   "metadata": {},
   "outputs": [
    {
     "data": {
      "text/html": [
       "<div>\n",
       "<style scoped>\n",
       "    .dataframe tbody tr th:only-of-type {\n",
       "        vertical-align: middle;\n",
       "    }\n",
       "\n",
       "    .dataframe tbody tr th {\n",
       "        vertical-align: top;\n",
       "    }\n",
       "\n",
       "    .dataframe thead th {\n",
       "        text-align: right;\n",
       "    }\n",
       "</style>\n",
       "<table border=\"1\" class=\"dataframe\">\n",
       "  <thead>\n",
       "    <tr style=\"text-align: right;\">\n",
       "      <th></th>\n",
       "      <th>SOURCE</th>\n",
       "      <th>TARGET</th>\n",
       "      <th>RATING</th>\n",
       "      <th>TIMESTAMP</th>\n",
       "      <th>EPISODE</th>\n",
       "    </tr>\n",
       "  </thead>\n",
       "  <tbody>\n",
       "    <tr>\n",
       "      <th>0</th>\n",
       "      <td>35</td>\n",
       "      <td>3952</td>\n",
       "      <td>1</td>\n",
       "      <td>1.365623e+09</td>\n",
       "      <td>21958</td>\n",
       "    </tr>\n",
       "    <tr>\n",
       "      <th>1</th>\n",
       "      <td>2125</td>\n",
       "      <td>5379</td>\n",
       "      <td>-1</td>\n",
       "      <td>1.392045e+09</td>\n",
       "      <td>32086</td>\n",
       "    </tr>\n",
       "    <tr>\n",
       "      <th>2</th>\n",
       "      <td>5227</td>\n",
       "      <td>5854</td>\n",
       "      <td>1</td>\n",
       "      <td>1.417038e+09</td>\n",
       "      <td>35751</td>\n",
       "    </tr>\n",
       "    <tr>\n",
       "      <th>3</th>\n",
       "      <td>6013</td>\n",
       "      <td>13492</td>\n",
       "      <td>-1</td>\n",
       "      <td>1.393304e+09</td>\n",
       "      <td>32395</td>\n",
       "    </tr>\n",
       "    <tr>\n",
       "      <th>4</th>\n",
       "      <td>6013</td>\n",
       "      <td>13495</td>\n",
       "      <td>-1</td>\n",
       "      <td>1.392008e+09</td>\n",
       "      <td>32075</td>\n",
       "    </tr>\n",
       "  </tbody>\n",
       "</table>\n",
       "</div>"
      ],
      "text/plain": [
       "   SOURCE  TARGET  RATING     TIMESTAMP  EPISODE\n",
       "0      35    3952       1  1.365623e+09    21958\n",
       "1    2125    5379      -1  1.392045e+09    32086\n",
       "2    5227    5854       1  1.417038e+09    35751\n",
       "3    6013   13492      -1  1.393304e+09    32395\n",
       "4    6013   13495      -1  1.392008e+09    32075"
      ]
     },
     "execution_count": 2,
     "metadata": {},
     "output_type": "execute_result"
    }
   ],
   "source": [
    "#importing the combined ratings file as a dataframe\n",
    "\n",
    "short_network = pd.read_csv('/Users/smritisridhar/Desktop/Blockchain-NUS/shorter_network.csv', engine = 'python')\n",
    "short_network.head()"
   ]
  },
  {
   "cell_type": "code",
   "execution_count": 3,
   "metadata": {},
   "outputs": [],
   "source": [
    "#function definition to extract node features from the network dataframe\n",
    "\n",
    "def GetNodeFeatures(GDF,n):\n",
    "    if n==0:\n",
    "        return ['in_nodedegree','out_nodedegree','positive_in_edges','negative_in_edges','positive_out_edges','negative_out_edges']\n",
    "    \n",
    "    # Get sub-dataframes\n",
    "    outgoing = GDF[GDF['SOURCE']==n].copy().reset_index(drop=True)\n",
    "    incoming = GDF[GDF['TARGET']==n].copy().reset_index(drop=True)\n",
    "    \n",
    "#creating perception scores as 6 features in addition to feature extraction from Node2vec\n",
    "    \n",
    "    # Compute node degree (ratings recieved by the user/node)\n",
    "    in_nodedegree = len(incoming)\n",
    "    \n",
    "    # Compute node degree (ratings given by the user/node)\n",
    "    out_nodedegree = len(outgoing)\n",
    "    \n",
    "    # Compute number of incoming nodes with positive ratings (total positive ratings recieved)\n",
    "    positive_in_edges = len([i for i in incoming.RATING.values if i>0])\n",
    "    \n",
    "    # Computer number of incoming nodes with negative ratings (total negative ratings recieved)\n",
    "    negative_in_edges = len([i for i in incoming.RATING.values if i<0])\n",
    "    \n",
    "    # Computer number of outgoing nodes with negative ratings (total positive ratings given by the user to others)\n",
    "    positive_out_edges = len([i for i in outgoing.RATING.values if i>0])\n",
    "    \n",
    "    # Computer number of incoming nodes with negative ratings (total negative ratings given by the user to others)\n",
    "    negative_out_edges = len([i for i in outgoing.RATING.values if i<0])\n",
    "    \n",
    "    return np.array([in_nodedegree,out_nodedegree,positive_in_edges,negative_in_edges,positive_out_edges,negative_out_edges])"
   ]
  },
  {
   "cell_type": "code",
   "execution_count": 4,
   "metadata": {},
   "outputs": [],
   "source": [
    "#Obtain node features for all nodes in the shortened network (feature extraction)\n",
    "\n",
    "# Define list of nodes and sort it in ascending order\n",
    "nodes = list( set(short_network['SOURCE']) | set(short_network['TARGET']) )\n",
    "nodes.sort()\n",
    "\n",
    "# Create NFM, the node feature matrix\n",
    "NFM = np.zeros([len(nodes),6])\n",
    "for i,n in enumerate(nodes):\n",
    "    NFM[i,:] = np.array(GetNodeFeatures(short_network,n))\n",
    "    \n",
    "# Create a dataframe containing all these node features\n",
    "Node_Features_df = pd.DataFrame(columns=GetNodeFeatures(short_network,0),data=NFM,index=nodes)\n",
    "Node_Features_df.head(1)\n",
    "Node_Features_df.to_csv('shortnetwork_node_features.csv') "
   ]
  },
  {
   "cell_type": "code",
   "execution_count": 5,
   "metadata": {},
   "outputs": [
    {
     "data": {
      "text/html": [
       "<div>\n",
       "<style scoped>\n",
       "    .dataframe tbody tr th:only-of-type {\n",
       "        vertical-align: middle;\n",
       "    }\n",
       "\n",
       "    .dataframe tbody tr th {\n",
       "        vertical-align: top;\n",
       "    }\n",
       "\n",
       "    .dataframe thead th {\n",
       "        text-align: right;\n",
       "    }\n",
       "</style>\n",
       "<table border=\"1\" class=\"dataframe\">\n",
       "  <thead>\n",
       "    <tr style=\"text-align: right;\">\n",
       "      <th></th>\n",
       "      <th>in_nodedegree</th>\n",
       "      <th>out_nodedegree</th>\n",
       "      <th>positive_in_edges</th>\n",
       "      <th>negative_in_edges</th>\n",
       "      <th>positive_out_edges</th>\n",
       "      <th>negative_out_edges</th>\n",
       "    </tr>\n",
       "  </thead>\n",
       "  <tbody>\n",
       "    <tr>\n",
       "      <th>1</th>\n",
       "      <td>198.0</td>\n",
       "      <td>184.0</td>\n",
       "      <td>198.0</td>\n",
       "      <td>0.0</td>\n",
       "      <td>177.0</td>\n",
       "      <td>7.0</td>\n",
       "    </tr>\n",
       "    <tr>\n",
       "      <th>2</th>\n",
       "      <td>36.0</td>\n",
       "      <td>36.0</td>\n",
       "      <td>35.0</td>\n",
       "      <td>1.0</td>\n",
       "      <td>34.0</td>\n",
       "      <td>2.0</td>\n",
       "    </tr>\n",
       "  </tbody>\n",
       "</table>\n",
       "</div>"
      ],
      "text/plain": [
       "   in_nodedegree  out_nodedegree  positive_in_edges  negative_in_edges  \\\n",
       "1          198.0           184.0              198.0                0.0   \n",
       "2           36.0            36.0               35.0                1.0   \n",
       "\n",
       "   positive_out_edges  negative_out_edges  \n",
       "1               177.0                 7.0  \n",
       "2                34.0                 2.0  "
      ]
     },
     "execution_count": 5,
     "metadata": {},
     "output_type": "execute_result"
    }
   ],
   "source": [
    "#reading the node feature file\n",
    "Node_Features_df = pd.read_csv('shortnetwork_node_features.csv',index_col=0)\n",
    "Node_Features_df.head(2)"
   ]
  },
  {
   "cell_type": "code",
   "execution_count": 7,
   "metadata": {},
   "outputs": [],
   "source": [
    "#creating an edgelist file from the short network file\n",
    "f = open('short_network.edgelist', 'w')\n",
    "for i in range(len(short_network)):\n",
    "    s = str(short_network['SOURCE'][i])\n",
    "    t = str(short_network['TARGET'][i])\n",
    "    f.write(s+' '+t+'\\n')\n",
    "f.close()"
   ]
  },
  {
   "cell_type": "code",
   "execution_count": null,
   "metadata": {},
   "outputs": [],
   "source": [
    "#Run Node2Vec implementation in python for each node in the short_network file for feature learning and embedding\n",
    "\n"
   ]
  },
  {
   "cell_type": "code",
   "execution_count": 6,
   "metadata": {},
   "outputs": [
    {
     "data": {
      "text/plain": [
       "(9664, 14)"
      ]
     },
     "execution_count": 6,
     "metadata": {},
     "output_type": "execute_result"
    }
   ],
   "source": [
    "#create a dictionary of node embeddings from the file short_network.emb created from node2vec to get the shape\n",
    "n = []\n",
    "e = []\n",
    "with open('/Users/smritisridhar/Desktop/Blockchain-NUS/short_network.emb') as fin:\n",
    "    for line in fin:\n",
    "        node_emb = line.strip().split()\n",
    "        n.append(node_emb[0])\n",
    "        e.append(node_emb[1:])\n",
    "n = n[1:]\n",
    "n = [int(i) for i in n]\n",
    "embs = np.zeros([len(e)-1,14])\n",
    "for i in range(1,len(e)):\n",
    "    embs[i-1] = e[i]\n",
    "embs.shape"
   ]
  },
  {
   "cell_type": "code",
   "execution_count": 7,
   "metadata": {},
   "outputs": [],
   "source": [
    "#using dimensionality reduction algorithms like TSNE to create a 2D projections on the embeddings\n",
    "from sklearn.manifold import TSNE\n",
    "\n",
    "'''tsne_dimreduction = TSNE(n_components=2, init='pca', random_state=0)\n",
    "projection = tsne.fit_transform(embs)\n",
    "np.save('short_network_tSNE_projection.npy',projection)'''\n",
    "\n",
    "projection = np.load('short_network_tSNE_projection.npy')"
   ]
  },
  {
   "cell_type": "code",
   "execution_count": 8,
   "metadata": {},
   "outputs": [],
   "source": [
    "#Plot node projections OTC or ALPHA\n",
    "\n",
    "alpha = [] #for the Bitcoin ALPHA nodes\n",
    "otc = [] #for the Bitcoin OTC nodes\n",
    "for i in range(len(n)):\n",
    "    if n[i] > 6005: # The highest OTC node ID is 6005\n",
    "        alpha.append(i)\n",
    "    else:\n",
    "        otc.append(i)"
   ]
  },
  {
   "cell_type": "code",
   "execution_count": 44,
   "metadata": {
    "scrolled": true
   },
   "outputs": [
    {
     "data": {
      "image/png": "[encoded data removed]",
      "text/plain": [
       "<Figure size 720x720 with 1 Axes>"
      ]
     },
     "metadata": {
      "needs_background": "light"
     },
     "output_type": "display_data"
    }
   ],
   "source": [
    "#exploratory data analysis from both the bitcoin markets: BitcoinOTC and BitcoinAlpha\n",
    "\n",
    "plt.figure(figsize=(10,10))\n",
    "alpha_projection = projection[alpha,:]\n",
    "otc_projection = projection[otc,:]\n",
    "plt.scatter(alpha_projection[:,0],alpha_projection[:,1],c='b',label='Bitcoin Alpha')\n",
    "plt.scatter(otc_projection[:,0],otc_projection[:,1],c='g',label='Bitcoin OTC')\n",
    "plt.legend()\n",
    "plt.savefig('Market_Analysis.png')"
   ]
  },
  {
   "cell_type": "code",
   "execution_count": 39,
   "metadata": {},
   "outputs": [],
   "source": [
    "#Node2Vec is able to represent nodes in a 14-dimensional space depicting the nodes' neighborhoods. We will expand these node representations by concatenating the 6 node features we calculated earlier so that we get a final 20-dimensional representation for each node.\n",
    "#this can further be used for link prediction, to know wether a link exists between the nodes or not \n"
   ]
  },
  {
   "cell_type": "code",
   "execution_count": 11,
   "metadata": {},
   "outputs": [
    {
     "data": {
      "text/plain": [
       "(9664, 20)"
      ]
     },
     "execution_count": 11,
     "metadata": {},
     "output_type": "execute_result"
    }
   ],
   "source": [
    "#normalised form of all 20 features\n",
    "\n",
    "Node_Features_matrix = np.zeros([len(n),20]) # Recall that we have 14 Node2Vec features plus 6 perception features mentioned above extracted from the rating network\n",
    "for i in range(len(n)):\n",
    "    Node_Features_matrix[i] = np.concatenate([embs[i],np.log2(Node_Features_df.loc[n[i]].values + 1)])\n",
    "Node_Features_matrix.shape"
   ]
  },
  {
   "cell_type": "code",
   "execution_count": 16,
   "metadata": {},
   "outputs": [],
   "source": [
    "Node_Features_matrix_mean = np.mean(Node_Features_matrix,axis=0)\n",
    "Node_Features_matrix_std = np.std(Node_Features_matrix,axis=0)\n",
    "Node_Features_matrix_norm = ( Node_Features_matrix - Node_Features_matrix_mean ) / ( Node_Features_matrix_std )"
   ]
  },
  {
   "cell_type": "code",
   "execution_count": 17,
   "metadata": {},
   "outputs": [
    {
     "data": {
      "text/html": [
       "<div>\n",
       "<style scoped>\n",
       "    .dataframe tbody tr th:only-of-type {\n",
       "        vertical-align: middle;\n",
       "    }\n",
       "\n",
       "    .dataframe tbody tr th {\n",
       "        vertical-align: top;\n",
       "    }\n",
       "\n",
       "    .dataframe thead th {\n",
       "        text-align: right;\n",
       "    }\n",
       "</style>\n",
       "<table border=\"1\" class=\"dataframe\">\n",
       "  <thead>\n",
       "    <tr style=\"text-align: right;\">\n",
       "      <th></th>\n",
       "      <th>1</th>\n",
       "      <th>2</th>\n",
       "      <th>3</th>\n",
       "      <th>4</th>\n",
       "      <th>5</th>\n",
       "      <th>6</th>\n",
       "      <th>7</th>\n",
       "      <th>8</th>\n",
       "      <th>9</th>\n",
       "      <th>10</th>\n",
       "      <th>11</th>\n",
       "      <th>12</th>\n",
       "      <th>13</th>\n",
       "      <th>14</th>\n",
       "      <th>15</th>\n",
       "      <th>16</th>\n",
       "      <th>17</th>\n",
       "      <th>18</th>\n",
       "      <th>19</th>\n",
       "      <th>20</th>\n",
       "    </tr>\n",
       "  </thead>\n",
       "  <tbody>\n",
       "    <tr>\n",
       "      <th>35</th>\n",
       "      <td>-1.774256</td>\n",
       "      <td>-0.448314</td>\n",
       "      <td>0.047397</td>\n",
       "      <td>0.612565</td>\n",
       "      <td>0.797896</td>\n",
       "      <td>-0.789905</td>\n",
       "      <td>-0.051981</td>\n",
       "      <td>-0.121641</td>\n",
       "      <td>-0.866701</td>\n",
       "      <td>0.772711</td>\n",
       "      <td>-0.960294</td>\n",
       "      <td>-0.634862</td>\n",
       "      <td>-0.391693</td>\n",
       "      <td>0.070921</td>\n",
       "      <td>5.995989</td>\n",
       "      <td>5.764529</td>\n",
       "      <td>5.966601</td>\n",
       "      <td>-0.403738</td>\n",
       "      <td>5.928494</td>\n",
       "      <td>5.244485</td>\n",
       "    </tr>\n",
       "    <tr>\n",
       "      <th>6006</th>\n",
       "      <td>-0.501574</td>\n",
       "      <td>-0.084692</td>\n",
       "      <td>0.723285</td>\n",
       "      <td>-1.407241</td>\n",
       "      <td>-0.649710</td>\n",
       "      <td>1.117009</td>\n",
       "      <td>0.567946</td>\n",
       "      <td>0.082475</td>\n",
       "      <td>-0.241229</td>\n",
       "      <td>-1.279825</td>\n",
       "      <td>0.483483</td>\n",
       "      <td>-0.937666</td>\n",
       "      <td>-1.084376</td>\n",
       "      <td>0.990163</td>\n",
       "      <td>5.628302</td>\n",
       "      <td>5.253367</td>\n",
       "      <td>5.607510</td>\n",
       "      <td>-0.403738</td>\n",
       "      <td>5.415542</td>\n",
       "      <td>2.245152</td>\n",
       "    </tr>\n",
       "    <tr>\n",
       "      <th>2642</th>\n",
       "      <td>-1.139167</td>\n",
       "      <td>-0.513084</td>\n",
       "      <td>1.118884</td>\n",
       "      <td>0.059454</td>\n",
       "      <td>-0.080315</td>\n",
       "      <td>-0.162173</td>\n",
       "      <td>0.315040</td>\n",
       "      <td>0.686051</td>\n",
       "      <td>0.649060</td>\n",
       "      <td>1.255844</td>\n",
       "      <td>-0.181627</td>\n",
       "      <td>0.228191</td>\n",
       "      <td>0.024559</td>\n",
       "      <td>-0.302619</td>\n",
       "      <td>5.577683</td>\n",
       "      <td>5.057479</td>\n",
       "      <td>5.554465</td>\n",
       "      <td>1.132302</td>\n",
       "      <td>5.198008</td>\n",
       "      <td>4.509349</td>\n",
       "    </tr>\n",
       "    <tr>\n",
       "      <th>2125</th>\n",
       "      <td>0.168152</td>\n",
       "      <td>0.876179</td>\n",
       "      <td>-0.513470</td>\n",
       "      <td>-0.215777</td>\n",
       "      <td>-0.248220</td>\n",
       "      <td>-0.916373</td>\n",
       "      <td>-0.365312</td>\n",
       "      <td>0.893897</td>\n",
       "      <td>0.826803</td>\n",
       "      <td>0.918575</td>\n",
       "      <td>-0.683717</td>\n",
       "      <td>1.040111</td>\n",
       "      <td>1.754360</td>\n",
       "      <td>-0.239251</td>\n",
       "      <td>4.613721</td>\n",
       "      <td>5.057479</td>\n",
       "      <td>4.616648</td>\n",
       "      <td>-0.403738</td>\n",
       "      <td>4.230008</td>\n",
       "      <td>12.063567</td>\n",
       "    </tr>\n",
       "    <tr>\n",
       "      <th>1810</th>\n",
       "      <td>0.072147</td>\n",
       "      <td>0.400560</td>\n",
       "      <td>0.326883</td>\n",
       "      <td>-0.186649</td>\n",
       "      <td>1.174607</td>\n",
       "      <td>-0.715021</td>\n",
       "      <td>-0.125926</td>\n",
       "      <td>1.679218</td>\n",
       "      <td>-0.296529</td>\n",
       "      <td>0.525661</td>\n",
       "      <td>-0.017292</td>\n",
       "      <td>0.255513</td>\n",
       "      <td>0.899269</td>\n",
       "      <td>0.118267</td>\n",
       "      <td>5.310770</td>\n",
       "      <td>5.026762</td>\n",
       "      <td>5.124245</td>\n",
       "      <td>7.598189</td>\n",
       "      <td>4.650978</td>\n",
       "      <td>11.015487</td>\n",
       "    </tr>\n",
       "  </tbody>\n",
       "</table>\n",
       "</div>"
      ],
      "text/plain": [
       "            1         2         3         4         5         6         7   \\\n",
       "35   -1.774256 -0.448314  0.047397  0.612565  0.797896 -0.789905 -0.051981   \n",
       "6006 -0.501574 -0.084692  0.723285 -1.407241 -0.649710  1.117009  0.567946   \n",
       "2642 -1.139167 -0.513084  1.118884  0.059454 -0.080315 -0.162173  0.315040   \n",
       "2125  0.168152  0.876179 -0.513470 -0.215777 -0.248220 -0.916373 -0.365312   \n",
       "1810  0.072147  0.400560  0.326883 -0.186649  1.174607 -0.715021 -0.125926   \n",
       "\n",
       "            8         9         10        11        12        13        14  \\\n",
       "35   -0.121641 -0.866701  0.772711 -0.960294 -0.634862 -0.391693  0.070921   \n",
       "6006  0.082475 -0.241229 -1.279825  0.483483 -0.937666 -1.084376  0.990163   \n",
       "2642  0.686051  0.649060  1.255844 -0.181627  0.228191  0.024559 -0.302619   \n",
       "2125  0.893897  0.826803  0.918575 -0.683717  1.040111  1.754360 -0.239251   \n",
       "1810  1.679218 -0.296529  0.525661 -0.017292  0.255513  0.899269  0.118267   \n",
       "\n",
       "            15        16        17        18        19         20  \n",
       "35    5.995989  5.764529  5.966601 -0.403738  5.928494   5.244485  \n",
       "6006  5.628302  5.253367  5.607510 -0.403738  5.415542   2.245152  \n",
       "2642  5.577683  5.057479  5.554465  1.132302  5.198008   4.509349  \n",
       "2125  4.613721  5.057479  4.616648 -0.403738  4.230008  12.063567  \n",
       "1810  5.310770  5.026762  5.124245  7.598189  4.650978  11.015487  "
      ]
     },
     "execution_count": 17,
     "metadata": {},
     "output_type": "execute_result"
    }
   ],
   "source": [
    "#capture the normalised node ID for each feature and putting into a dataframe\n",
    "\n",
    "norm_node_df = pd.DataFrame(columns=list(range(1,21)),index=n,data=Node_Features_matrix_norm)\n",
    "norm_node_df.head()"
   ]
  },
  {
   "cell_type": "code",
   "execution_count": 38,
   "metadata": {},
   "outputs": [],
   "source": [
    "#saving the normalized node embeddings dataframe into a csv file\n",
    "\n",
    "norm_node_df.to_csv('./short_node_embeddings_mean_normalized.csv')"
   ]
  },
  {
   "cell_type": "code",
   "execution_count": 30,
   "metadata": {},
   "outputs": [],
   "source": [
    "#norm_node_df = pd.read_csv('short_node_embeddings_normalized.csv',index_col=0)\n",
    "#norm_node_df = pd.read_csv('short_node_embeddings_normalized_with_log10.csv',index_col=0)\n",
    "norm_node_df = pd.read_csv('./short_node_embeddings_mean_normalized.csv', index_col=0)"
   ]
  },
  {
   "cell_type": "code",
   "execution_count": 31,
   "metadata": {},
   "outputs": [
    {
     "name": "stdout",
     "output_type": "stream",
     "text": [
      "[0. 1. 0. ... 0. 0. 1.]\n"
     ]
    }
   ],
   "source": [
    "#Create X input matrix and y output vector\n",
    "#NOTE: Here we assign a score of 1 if transaction is rated badly (fraud), and 0 otherwise\n",
    "'''Construct the input matrix X and the output vector y. \n",
    "Each row of the X matrix contains 40 values (20 values for the source node or buyer, 20 values for the target node or seller).\n",
    "The y vector captures the rating of the transaction the seller received from the buyer.\n",
    "'''\n",
    "import numpy as np\n",
    "\n",
    "X = np.zeros([len(short_network),40])\n",
    "y = np.zeros(len(short_network))\n",
    "for i in range(len(short_network)):\n",
    "    s = short_network['SOURCE'][i] #source list\n",
    "    t = short_network['TARGET'][i] #target list\n",
    "    r = short_network['RATING'][i] #ratings list\n",
    "    left = norm_node_df.loc[s,:].values\n",
    "    right = norm_node_df.loc[t,:].values\n",
    "    X[i,:] = np.concatenate([left,right])\n",
    "    if r > 0:\n",
    "        y[i] = 0 # If not fraud\n",
    "    else:\n",
    "        y[i] = 1 # If fraud\n",
    "print(y)"
   ]
  },
  {
   "cell_type": "code",
   "execution_count": 32,
   "metadata": {},
   "outputs": [
    {
     "name": "stdout",
     "output_type": "stream",
     "text": [
      "[0. 0. 0. ... 0. 0. 1.]\n"
     ]
    }
   ],
   "source": [
    "#Repeat the above procedure for calculating the value of X and value of y from the validation dataframe(Test_network)\n",
    "\n",
    "validate_network = pd.read_csv('/Users/smritisridhar/Desktop/Blockchain-NUS/Test_network.csv', engine = 'python')\n",
    "X_val = np.zeros([len(validate_network),40])\n",
    "y_val = np.zeros(len(validate_network))\n",
    "for i in range(len(validate_network)):\n",
    "    s = validate_network['SOURCE'][i]\n",
    "    t = validate_network['TARGET'][i]\n",
    "    r = validate_network['RATING'][i]\n",
    "    left = norm_node_df.loc[s,:].values\n",
    "    right = norm_node_df.loc[t,:].values\n",
    "    X_val[i,:] = np.concatenate([left,right])\n",
    "    if r>0:\n",
    "        y_val[i] = 0 # If not fraud\n",
    "    else:\n",
    "        y_val[i] = 1 # If fraud (class imbalance)\n",
    "print(y_val)"
   ]
  },
  {
   "cell_type": "code",
   "execution_count": 48,
   "metadata": {},
   "outputs": [],
   "source": [
    "#PART 2: Model building: training, testing and evaluation\n",
    "\n",
    "#Logistic Regression trained with both Node2Vec features and perception scores\n",
    "#Logistic Regression trained with perception scores only\n",
    "#Deep Neural Network trained with perception scores only\n",
    "#Deep Neural Network trained with node2vec and perception scores \n",
    "#MLP for binary classification "
   ]
  },
  {
   "cell_type": "code",
   "execution_count": 14,
   "metadata": {},
   "outputs": [
    {
     "name": "stderr",
     "output_type": "stream",
     "text": [
      "Using TensorFlow backend.\n"
     ]
    }
   ],
   "source": [
    "# Importing Machine Learning libraries\n",
    "from sklearn.model_selection import train_test_split\n",
    "from sklearn.preprocessing import StandardScaler, RobustScaler\n",
    "from sklearn.model_selection import cross_val_score\n",
    "from sklearn.model_selection import KFold\n",
    "from sklearn.preprocessing import LabelEncoder\n",
    "from sklearn.pipeline import Pipeline\n",
    "from sklearn.linear_model import LogisticRegression\n",
    "from sklearn import metrics\n",
    "from sklearn.metrics import confusion_matrix as cm\n",
    "from sklearn.metrics import classification_report\n",
    "from sklearn.metrics import roc_auc_score\n",
    "from sklearn.metrics import roc_curve\n",
    "\n",
    "#importing deep learning libraries\n",
    "import keras\n",
    "from keras.models import Sequential\n",
    "from keras.layers import Dense\n",
    "from keras.models import load_model\n",
    "from keras.wrappers.scikit_learn import KerasClassifier\n",
    "from keras.layers import Input, Convolution2D, MaxPooling2D, Dense, Dropout, Flatten\n",
    "from keras.utils import np_utils\n",
    "from keras.layers.merge import Concatenate\n"
   ]
  },
  {
   "cell_type": "code",
   "execution_count": 15,
   "metadata": {},
   "outputs": [
    {
     "name": "stdout",
     "output_type": "stream",
     "text": [
      "(39857, 40)\n"
     ]
    }
   ],
   "source": [
    "# Create train and test sets\n",
    "X_train, X_test, y_train, y_test = train_test_split(X,y,test_size= 0.2,random_state=0)\n",
    "\n",
    "def CreateSample(frac=0.8): #function to generate samples of training data without biasing it towards the abundant category\n",
    "    fraud_indices = np.array([i for i in range(len(y_train)) if y_train[i]==1])\n",
    "    not_fraud_indices = np.array([i for i in range(len(y_train)) if y_train[i]==0])\n",
    "    sample_size = int(np.round( len(fraud_indices) * frac ))\n",
    "    fraud_sample = np.random.randint(0,len(fraud_indices),sample_size) \n",
    "    not_fraud_sample = np.random.randint(0,len(not_fraud_indices),sample_size)\n",
    "    y_sample = np.concatenate([y_train[fraud_indices][fraud_sample],y_train[not_fraud_indices[not_fraud_sample]]])\n",
    "    X_sample = np.concatenate([X_train[fraud_indices][fraud_sample],X_train[not_fraud_indices[not_fraud_sample]]])\n",
    "    return X_sample,y_sample\n",
    "print(X_train.shape)"
   ]
  },
  {
   "cell_type": "code",
   "execution_count": 16,
   "metadata": {},
   "outputs": [],
   "source": [
    "#function defination to plot a confusion model\n",
    "\n",
    "from matplotlib import pyplot as plt\n",
    "def plot_confusion_matrix(cm, classes,\n",
    "                          normalize=False,\n",
    "                          title='Confusion matrix',\n",
    "                          cmap=plt.cm.Blues):\n",
    "    \"\"\"\n",
    "    This function prints and plots the confusion matrix.\n",
    "    Normalization can be applied by setting `normalize=True`.\n",
    "    \"\"\"\n",
    "    if normalize:\n",
    "        cm = cm.astype('float') / cm.sum(axis=1)[:, np.newaxis]\n",
    "        print(\"Normalized confusion matrix\")\n",
    "    else:\n",
    "        print('Confusion matrix, without normalization')\n",
    "\n",
    "    print(cm)\n",
    "\n",
    "    plt.imshow(cm, interpolation='nearest', cmap=cmap)\n",
    "    plt.title(title)\n",
    "    plt.colorbar()\n",
    "    tick_marks = np.arange(len(classes))\n",
    "    plt.xticks(tick_marks, classes, rotation=45)\n",
    "    plt.yticks(tick_marks, classes)\n",
    "\n",
    "    fmt = '.2f' if normalize else 'd'\n",
    "    thresh = cm.max() / 2.\n",
    "    for i, j in itertools.product(range(cm.shape[0]), range(cm.shape[1])):\n",
    "        plt.text(j, i, format(cm[i, j], fmt),\n",
    "                 horizontalalignment=\"center\",\n",
    "                 color=\"white\" if cm[i, j] > thresh else \"black\")\n",
    "\n",
    "    plt.ylabel('True label')\n",
    "    plt.xlabel('Predicted label')\n",
    "    plt.tight_layout()"
   ]
  },
  {
   "cell_type": "code",
   "execution_count": 7,
   "metadata": {},
   "outputs": [],
   "source": [
    "#model 1 : Construct a Neural Net model (without Node2Vec features)"
   ]
  },
  {
   "cell_type": "code",
   "execution_count": 17,
   "metadata": {},
   "outputs": [
    {
     "name": "stdout",
     "output_type": "stream",
     "text": [
      "WARNING:tensorflow:From /Users/smritisridhar/anaconda3/envs/tf/lib/python3.7/site-packages/tensorflow/python/framework/op_def_library.py:263: colocate_with (from tensorflow.python.framework.ops) is deprecated and will be removed in a future version.\n",
      "Instructions for updating:\n",
      "Colocations handled automatically by placer.\n"
     ]
    }
   ],
   "source": [
    "# Initialize model\n",
    "\n",
    "input_size = 12 # Features from X matrix (only the perception scores)\n",
    "\n",
    "M1 = Sequential()\n",
    "\n",
    "# Add an input layer\n",
    "M1.add(Dense(128, activation='relu', input_shape=(input_size,)))\n",
    "\n",
    "# Add first hidden layer\n",
    "M1.add(Dense(128, activation='relu'))\n",
    "\n",
    "# Add second hidden layer\n",
    "M1.add(Dense(64, activation='relu'))\n",
    "\n",
    "#Add third hidden layer\n",
    "M1.add(Dense(32, activation='relu'))\n",
    "\n",
    "#Add fourth hidden layer\n",
    "M1.add(Dense(16, activation='relu'))\n",
    "\n",
    "# Add output layer\n",
    "M1.add(Dense(1,activation='sigmoid'))\n",
    "\n",
    "# Define optimizers\n",
    "\n",
    "#Nesterov Adam optimizer\n",
    "nadam = keras.optimizers.Nadam(lr=1e-6, beta_1=0.9, beta_2=0.999, epsilon=None, schedule_decay=0.004)\n",
    "#SGD optimizer\n",
    "sgd = keras.optimizers.SGD(lr=1e-3, decay=1e-6, momentum=0.9, nesterov=True)\n",
    "\n",
    "M1.compile(loss='binary_crossentropy',\n",
    "              optimizer=nadam,\n",
    "              metrics=['accuracy'])\n",
    "\n",
    "# Define parameters\n",
    "Nepochs = 10"
   ]
  },
  {
   "cell_type": "code",
   "execution_count": 18,
   "metadata": {},
   "outputs": [
    {
     "name": "stdout",
     "output_type": "stream",
     "text": [
      "WARNING:tensorflow:From /Users/smritisridhar/anaconda3/envs/tf/lib/python3.7/site-packages/tensorflow/python/ops/math_ops.py:3066: to_int32 (from tensorflow.python.ops.math_ops) is deprecated and will be removed in a future version.\n",
      "Instructions for updating:\n",
      "Use tf.cast instead.\n"
     ]
    }
   ],
   "source": [
    "#cross validation and training using bootstrapping\n",
    "\n",
    "cols_to_keep = list(range(14,20)) + list(range(34,40)) #without node2vec features using only 6 perception scores\n",
    "for i in range(15):\n",
    "    sample_x,sample_y = CreateSample()\n",
    "    M1.fit(sample_x[:,cols_to_keep], sample_y, epochs=Nepochs, batch_size=5, verbose=0)"
   ]
  },
  {
   "cell_type": "code",
   "execution_count": 19,
   "metadata": {},
   "outputs": [
    {
     "name": "stdout",
     "output_type": "stream",
     "text": [
      "Classification Report for Model 1 (NN without Node2Vec)\n",
      "              precision    recall  f1-score   support\n",
      "\n",
      "         0.0       1.00      0.94      0.97      9119\n",
      "         1.0       0.59      0.96      0.73       846\n",
      "\n",
      "    accuracy                           0.94      9965\n",
      "   macro avg       0.79      0.95      0.85      9965\n",
      "weighted avg       0.96      0.94      0.95      9965\n",
      "\n"
     ]
    }
   ],
   "source": [
    "#evaluating model 1 with test set\n",
    "y_pred = M1.predict(X_test[:,cols_to_keep])\n",
    "\n",
    "# Print classfication report\n",
    "target_names = ['Honest','Fraudulent']\n",
    "confusion_matrix = cm(y_test, np.round(y_pred))\n",
    "print(\"Classification Report for Model 1 (NN without Node2Vec)\")\n",
    "print(classification_report(y_test, np.round(y_pred)))"
   ]
  },
  {
   "cell_type": "code",
   "execution_count": 20,
   "metadata": {},
   "outputs": [
    {
     "name": "stdout",
     "output_type": "stream",
     "text": [
      "Model 1\n",
      "Normalized confusion matrix\n",
      "[[0.93760281 0.06239719]\n",
      " [0.04491726 0.95508274]]\n"
     ]
    },
    {
     "data": {
      "image/png": "[encoded data removed]",
      "text/plain": [
       "<Figure size 720x432 with 2 Axes>"
      ]
     },
     "metadata": {
      "needs_background": "light"
     },
     "output_type": "display_data"
    }
   ],
   "source": [
    "# Plot normalized confusion matrix for model 1 for evaluation\n",
    "\n",
    "print('Model 1')\n",
    "plt.figure(figsize=(10,6))\n",
    "plot_confusion_matrix(confusion_matrix, classes=target_names, normalize=True,\n",
    "                      title='Normalized confusion matrix (Validation)')"
   ]
  },
  {
   "cell_type": "code",
   "execution_count": null,
   "metadata": {},
   "outputs": [],
   "source": [
    "#construct model 2 (logistic regression using node2vec features and perception scores features created manually)"
   ]
  },
  {
   "cell_type": "code",
   "execution_count": 21,
   "metadata": {},
   "outputs": [
    {
     "name": "stderr",
     "output_type": "stream",
     "text": [
      "/Users/smritisridhar/anaconda3/envs/tf/lib/python3.7/site-packages/sklearn/linear_model/logistic.py:432: FutureWarning: Default solver will be changed to 'lbfgs' in 0.22. Specify a solver to silence this warning.\n",
      "  FutureWarning)\n"
     ]
    },
    {
     "data": {
      "text/plain": [
       "LogisticRegression(C=1.0, class_weight=None, dual=False, fit_intercept=True,\n",
       "                   intercept_scaling=1, l1_ratio=None, max_iter=100,\n",
       "                   multi_class='warn', n_jobs=None, penalty='l2',\n",
       "                   random_state=None, solver='warn', tol=0.0001, verbose=0,\n",
       "                   warm_start=False)"
      ]
     },
     "execution_count": 21,
     "metadata": {},
     "output_type": "execute_result"
    }
   ],
   "source": [
    "#train model 2 with training data\n",
    "M2 = LogisticRegression()\n",
    "M2.fit(X_train, y_train)"
   ]
  },
  {
   "cell_type": "code",
   "execution_count": 22,
   "metadata": {},
   "outputs": [
    {
     "name": "stdout",
     "output_type": "stream",
     "text": [
      "Accuracy of logistic regression classifier on test set: 0.96\n",
      "Classification Report for Logistic Regression\n",
      "              precision    recall  f1-score   support\n",
      "\n",
      "         0.0       0.97      0.99      0.98      9119\n",
      "         1.0       0.84      0.66      0.74       846\n",
      "\n",
      "    accuracy                           0.96      9965\n",
      "   macro avg       0.90      0.82      0.86      9965\n",
      "weighted avg       0.96      0.96      0.96      9965\n",
      "\n"
     ]
    }
   ],
   "source": [
    "#evaluate model 2 with testing data\n",
    "y_pred = M2.predict(X_test)\n",
    "print('Accuracy of logistic regression classifier on test set: {:.2f}'.format(M2.score(X_test, y_test)))\n",
    "\n",
    "confusion_matrix = cm(y_test, y_pred)\n",
    "print(\"Classification Report for Logistic Regression\")\n",
    "print(classification_report(y_test, y_pred))"
   ]
  },
  {
   "cell_type": "code",
   "execution_count": 23,
   "metadata": {},
   "outputs": [
    {
     "name": "stdout",
     "output_type": "stream",
     "text": [
      "Normalized confusion matrix\n",
      "[[0.98804693 0.01195307]\n",
      " [0.3392435  0.6607565 ]]\n"
     ]
    },
    {
     "data": {
      "image/png": "[encoded data removed]",
      "text/plain": [
       "<Figure size 720x432 with 2 Axes>"
      ]
     },
     "metadata": {
      "needs_background": "light"
     },
     "output_type": "display_data"
    }
   ],
   "source": [
    "# Plot normalized confusion matrix for model 2 for evaluation\n",
    "plt.figure(figsize=(10,6))\n",
    "plot_confusion_matrix(confusion_matrix, classes=target_names, normalize=True,\n",
    "                      title='Normalized confusion matrix')"
   ]
  },
  {
   "cell_type": "code",
   "execution_count": null,
   "metadata": {},
   "outputs": [],
   "source": [
    "#model 3: Logistic regression with only perception score features (without network features)"
   ]
  },
  {
   "cell_type": "code",
   "execution_count": 24,
   "metadata": {},
   "outputs": [
    {
     "name": "stderr",
     "output_type": "stream",
     "text": [
      "/Users/smritisridhar/anaconda3/envs/tf/lib/python3.7/site-packages/sklearn/linear_model/logistic.py:432: FutureWarning: Default solver will be changed to 'lbfgs' in 0.22. Specify a solver to silence this warning.\n",
      "  FutureWarning)\n"
     ]
    },
    {
     "data": {
      "text/plain": [
       "LogisticRegression(C=1.0, class_weight=None, dual=False, fit_intercept=True,\n",
       "                   intercept_scaling=1, l1_ratio=None, max_iter=100,\n",
       "                   multi_class='warn', n_jobs=None, penalty='l2',\n",
       "                   random_state=None, solver='warn', tol=0.0001, verbose=0,\n",
       "                   warm_start=False)"
      ]
     },
     "execution_count": 24,
     "metadata": {},
     "output_type": "execute_result"
    }
   ],
   "source": [
    "M3 = LogisticRegression()\n",
    "M3.fit(X_train[:,cols_to_keep], y_train)"
   ]
  },
  {
   "cell_type": "code",
   "execution_count": 25,
   "metadata": {},
   "outputs": [
    {
     "name": "stdout",
     "output_type": "stream",
     "text": [
      "Accuracy of logistic regression classifier on test set: 0.96\n",
      "Classification Report for Logistic Regression\n",
      "              precision    recall  f1-score   support\n",
      "\n",
      "         0.0       0.97      0.99      0.98      9119\n",
      "         1.0       0.83      0.62      0.71       846\n",
      "\n",
      "    accuracy                           0.96      9965\n",
      "   macro avg       0.90      0.81      0.84      9965\n",
      "weighted avg       0.95      0.96      0.95      9965\n",
      "\n"
     ]
    }
   ],
   "source": [
    "#evaluate model 3 with test data\n",
    "y_pred = M3.predict(X_test[:,cols_to_keep])\n",
    "print('Accuracy of logistic regression classifier on test set: {:.2f}'.format(M3.score(X_test[:,cols_to_keep], y_test)))\n",
    "\n",
    "confusion_matrix = cm(y_test, y_pred)\n",
    "print(\"Classification Report for Logistic Regression\")\n",
    "print(classification_report(y_test, y_pred))"
   ]
  },
  {
   "cell_type": "code",
   "execution_count": 28,
   "metadata": {},
   "outputs": [
    {
     "name": "stdout",
     "output_type": "stream",
     "text": [
      "Normalized confusion matrix\n",
      "[[0.98826626 0.01173374]\n",
      " [0.37706856 0.62293144]]\n"
     ]
    },
    {
     "data": {
      "image/png": "[encoded data removed]",
      "text/plain": [
       "<Figure size 720x432 with 2 Axes>"
      ]
     },
     "metadata": {
      "needs_background": "light"
     },
     "output_type": "display_data"
    }
   ],
   "source": [
    "# Plot normalized confusion matrix for model 3 for evaluation\n",
    "plt.figure(figsize=(10,6))\n",
    "plot_confusion_matrix(confusion_matrix, classes=target_names, normalize=True,\n",
    "                      title='Normalized confusion matrix')"
   ]
  },
  {
   "cell_type": "code",
   "execution_count": 33,
   "metadata": {},
   "outputs": [
    {
     "name": "stdout",
     "output_type": "stream",
     "text": [
      "Accuracy of logistic regression classifier on validation set: 0.94\n",
      "Classification Report for Logistic Regression (Validation)\n",
      "              precision    recall  f1-score   support\n",
      "\n",
      "         0.0       0.95      0.98      0.97      9075\n",
      "         1.0       0.73      0.52      0.61       881\n",
      "\n",
      "    accuracy                           0.94      9956\n",
      "   macro avg       0.84      0.75      0.79      9956\n",
      "weighted avg       0.93      0.94      0.94      9956\n",
      "\n"
     ]
    }
   ],
   "source": [
    "#evaluate model 3 with validation data\n",
    "\n",
    "y_pred = M3.predict(X_val[:,cols_to_keep])\n",
    "print('Accuracy of logistic regression classifier on validation set: {:.2f}'.format(M3.score(X_val[:,cols_to_keep], y_val)))\n",
    "\n",
    "confusion_matrix = cm(y_val, y_pred)\n",
    "print(\"Classification Report for Logistic Regression (Validation)\")\n",
    "print(classification_report(y_val, y_pred))"
   ]
  },
  {
   "cell_type": "code",
   "execution_count": 34,
   "metadata": {},
   "outputs": [],
   "source": [
    "# model 4: using neural network model with node2vec features and our perception scores features\n",
    "\n",
    "\n",
    "# Initializing model 4 using tensorflow backend and keras\n",
    "\n",
    "input_size = 40 # Features from X matrix\n",
    "\n",
    "M4 = Sequential()\n",
    "\n",
    "# Add an input layer\n",
    "M4.add(Dense(128, activation='relu', input_shape=(input_size,)))\n",
    "\n",
    "# Add first hidden layer\n",
    "M4.add(Dense(128, activation='relu'))\n",
    "\n",
    "# Add second hidden layer\n",
    "M4.add(Dense(64, activation='relu'))\n",
    "\n",
    "#Add third hidden layer\n",
    "M4.add(Dense(32, activation='relu'))\n",
    "\n",
    "#Add fourth hidden layer\n",
    "M4.add(Dense(16, activation='relu'))\n",
    "\n",
    "# Add output layer\n",
    "M4.add(Dense(1,activation='sigmoid'))\n",
    "\n",
    "# Define optimizers\n",
    "nadam = keras.optimizers.Nadam(lr=1e-6, beta_1=0.9, beta_2=0.999, epsilon=None, schedule_decay=0.004)\n",
    "sgd = keras.optimizers.SGD(lr=1e-3, decay=1e-6, momentum=0.9, nesterov=True)\n",
    "\n",
    "M4.compile(loss='binary_crossentropy',\n",
    "              optimizer=nadam,\n",
    "              metrics=['accuracy'])\n",
    "\n",
    "# Define parameters\n",
    "Nepochs = 10"
   ]
  },
  {
   "cell_type": "code",
   "execution_count": 35,
   "metadata": {},
   "outputs": [],
   "source": [
    "#training the model by using bootstrapping\n",
    "\n",
    "for i in range(15):  #using the 14 node2vec features\n",
    "    sample_x,sample_y = CreateSample() #bootstrapping\n",
    "    M4.fit(sample_x, sample_y, epochs=Nepochs, batch_size=5, verbose=0)"
   ]
  },
  {
   "cell_type": "code",
   "execution_count": 36,
   "metadata": {},
   "outputs": [
    {
     "name": "stdout",
     "output_type": "stream",
     "text": [
      "Classification Report for the NN model (test set)\n",
      "              precision    recall  f1-score   support\n",
      "\n",
      "         0.0       0.99      0.93      0.96      9119\n",
      "         1.0       0.56      0.93      0.70       846\n",
      "\n",
      "    accuracy                           0.93      9965\n",
      "   macro avg       0.78      0.93      0.83      9965\n",
      "weighted avg       0.96      0.93      0.94      9965\n",
      "\n"
     ]
    }
   ],
   "source": [
    "#evaluate model 4 with test set\n",
    "y_pred = M4.predict(X_test)\n",
    "\n",
    "# Print classfication report\n",
    "target_names = ['Honest','Fraudulent']\n",
    "confusion_matrix = cm(y_test, np.round(y_pred))\n",
    "print(\"Classification Report for the NN model (test set)\")\n",
    "print(classification_report(y_test, np.round(y_pred)))"
   ]
  },
  {
   "cell_type": "code",
   "execution_count": 37,
   "metadata": {},
   "outputs": [
    {
     "name": "stdout",
     "output_type": "stream",
     "text": [
      "Normalized confusion matrix\n",
      "[[0.93266806 0.06733194]\n",
      " [0.07210402 0.92789598]]\n"
     ]
    },
    {
     "data": {
      "image/png": "[encoded data removed]",
      "text/plain": [
       "<Figure size 576x432 with 2 Axes>"
      ]
     },
     "metadata": {
      "needs_background": "light"
     },
     "output_type": "display_data"
    }
   ],
   "source": [
    "# Plot normalized confusion matrix of model 4 for evaluation \n",
    "plt.figure(figsize=(8,6))\n",
    "plot_confusion_matrix(confusion_matrix, classes=target_names, normalize=True,\n",
    "                      title='Normalized confusion matrix')"
   ]
  },
  {
   "cell_type": "code",
   "execution_count": 38,
   "metadata": {
    "scrolled": true
   },
   "outputs": [
    {
     "name": "stdout",
     "output_type": "stream",
     "text": [
      "Classification Report for the NN model (Validation set)\n",
      "              precision    recall  f1-score   support\n",
      "\n",
      "         0.0       0.97      0.92      0.94      9075\n",
      "         1.0       0.46      0.74      0.57       881\n",
      "\n",
      "    accuracy                           0.90      9956\n",
      "   macro avg       0.72      0.83      0.76      9956\n",
      "weighted avg       0.93      0.90      0.91      9956\n",
      "\n"
     ]
    }
   ],
   "source": [
    "#evaluating with the validation dataset\n",
    "y_pred = M4.predict(X_val)\n",
    "# Print confusion matrix\n",
    "confusion_matrix = cm(y_val, np.round(y_pred))\n",
    "print(\"Classification Report for the NN model (Validation set)\")\n",
    "print(classification_report(y_val, np.round(y_pred)))"
   ]
  },
  {
   "cell_type": "code",
   "execution_count": 39,
   "metadata": {},
   "outputs": [
    {
     "name": "stdout",
     "output_type": "stream",
     "text": [
      "WARNING:tensorflow:From /Users/smritisridhar/anaconda3/envs/tf/lib/python3.7/site-packages/keras/backend/tensorflow_backend.py:3445: calling dropout (from tensorflow.python.ops.nn_ops) with keep_prob is deprecated and will be removed in a future version.\n",
      "Instructions for updating:\n",
      "Please use `rate` instead of `keep_prob`. Rate should be set to `rate = 1 - keep_prob`.\n",
      "Epoch 1/5\n",
      "39857/39857 [==============================] - 11s 270us/step - loss: 0.3000 - acc: 0.9143\n",
      "Epoch 2/5\n",
      "39857/39857 [==============================] - 10s 243us/step - loss: 0.2583 - acc: 0.9154\n",
      "Epoch 3/5\n",
      "39857/39857 [==============================] - 9s 236us/step - loss: 0.2550 - acc: 0.9154\n",
      "Epoch 4/5\n",
      "39857/39857 [==============================] - 10s 263us/step - loss: 0.2538 - acc: 0.9154\n",
      "Epoch 5/5\n",
      "39857/39857 [==============================] - 9s 236us/step - loss: 0.2540 - acc: 0.9154\n",
      "9965/9965 [==============================] - 1s 87us/step\n"
     ]
    }
   ],
   "source": [
    "#Model 5: MLP for binary classification \n",
    "\n",
    "from keras.models import Sequential\n",
    "from keras.layers import Dense, Dropout\n",
    "\n",
    "\n",
    "M5 = Sequential()\n",
    "M5.add(Dense(1, input_dim=40, activation='relu'))\n",
    "M5.add(Dropout(0.5)) #playing around with the dropout rate\n",
    "M5.add(Dense(60, activation='relu'))\n",
    "M5.add(Dropout(0.5))\n",
    "M5.add(Dense(1, activation='sigmoid'))\n",
    "\n",
    "M5.compile(loss='binary_crossentropy',\n",
    "              optimizer='adam',\n",
    "              metrics=['accuracy'])\n",
    "\n",
    "history = M5.fit(X_train, y_train,\n",
    "          epochs=5,\n",
    "          batch_size=10)\n",
    "score = M5.evaluate(X_test, y_test, batch_size=10)"
   ]
  },
  {
   "cell_type": "code",
   "execution_count": 40,
   "metadata": {},
   "outputs": [
    {
     "name": "stdout",
     "output_type": "stream",
     "text": [
      "dict_keys(['loss', 'acc'])\n"
     ]
    },
    {
     "data": {
      "image/png": "[encoded data removed]",
      "text/plain": [
       "<Figure size 432x288 with 1 Axes>"
      ]
     },
     "metadata": {
      "needs_background": "light"
     },
     "output_type": "display_data"
    },
    {
     "data": {
      "text/plain": [
       "<Figure size 432x288 with 0 Axes>"
      ]
     },
     "metadata": {},
     "output_type": "display_data"
    }
   ],
   "source": [
    "#visualizing the history of training \n",
    "print(history.history.keys())\n",
    "# summarize history for accuracy\n",
    "plt.plot(history.history['acc'])\n",
    "plt.title('MLP model accuracy')\n",
    "plt.ylabel('accuracy')\n",
    "plt.xlabel('epoch')\n",
    "plt.legend(['train', 'test'], loc='upper left')\n",
    "plt.show()\n",
    "plt.savefig('MLP_model.png')"
   ]
  },
  {
   "cell_type": "code",
   "execution_count": 41,
   "metadata": {},
   "outputs": [
    {
     "data": {
      "text/plain": [
       "\"from keras.layers import Dense, Dropout\\nfrom keras.layers import Embedding\\nfrom keras.layers import Conv1D, GlobalAveragePooling1D, MaxPooling1D\\n\\nseq_length = 40\\n\\nmodel = Sequential()\\nmodel.add(Conv1D(64, 3, activation='relu', input_shape=(seq_length, 40)))\\nmodel.add(Conv1D(64, 3, activation='relu'))\\nmodel.add(MaxPooling1D(3))\\nmodel.add(Conv1D(128, 3, activation='relu'))\\nmodel.add(Conv1D(128, 3, activation='relu'))\\nmodel.add(GlobalAveragePooling1D())\\nmodel.add(Dropout(0.5))\\nmodel.add(Dense(1, activation='sigmoid'))\\n\\nmodel.compile(loss='binary_crossentropy',\\n              optimizer='rmsprop',\\n              metrics=['accuracy'])\\n\\nmodel.fit(X_train, y_train, batch_size=16, epochs=5)\\nscore = model.evaluate(X_test, y_test, batch_size=10)\""
      ]
     },
     "execution_count": 41,
     "metadata": {},
     "output_type": "execute_result"
    }
   ],
   "source": [
    "#model 6: CNN with 1-D classifications \n",
    "\n",
    "'''from keras.layers import Dense, Dropout\n",
    "from keras.layers import Embedding\n",
    "from keras.layers import Conv1D, GlobalAveragePooling1D, MaxPooling1D\n",
    "\n",
    "seq_length = 40\n",
    "\n",
    "model = Sequential()\n",
    "model.add(Conv1D(64, 3, activation='relu', input_shape=(seq_length, 40)))\n",
    "model.add(Conv1D(64, 3, activation='relu'))\n",
    "model.add(MaxPooling1D(3))\n",
    "model.add(Conv1D(128, 3, activation='relu'))\n",
    "model.add(Conv1D(128, 3, activation='relu'))\n",
    "model.add(GlobalAveragePooling1D())\n",
    "model.add(Dropout(0.5))\n",
    "model.add(Dense(1, activation='sigmoid'))\n",
    "\n",
    "model.compile(loss='binary_crossentropy',\n",
    "              optimizer='rmsprop',\n",
    "              metrics=['accuracy'])\n",
    "\n",
    "model.fit(X_train, y_train, batch_size=16, epochs=5)\n",
    "score = model.evaluate(X_test, y_test, batch_size=10)'''"
   ]
  },
  {
   "cell_type": "code",
   "execution_count": null,
   "metadata": {},
   "outputs": [],
   "source": [
    "#PART 3: evaluation and performance"
   ]
  },
  {
   "cell_type": "code",
   "execution_count": 42,
   "metadata": {},
   "outputs": [
    {
     "data": {
      "image/png": "[encoded data removed]",
      "text/plain": [
       "<Figure size 576x576 with 1 Axes>"
      ]
     },
     "metadata": {
      "needs_background": "light"
     },
     "output_type": "display_data"
    }
   ],
   "source": [
    "#Plotting ROC curve\n",
    "from matplotlib import pyplot as plt\n",
    "plt.figure(figsize=(8,8))\n",
    "\n",
    "logit_roc_auc = roc_auc_score(y_val, M4.predict(X_val))\n",
    "fpr, tpr, thresholds = roc_curve(y_val, M4.predict_proba(X_val))\n",
    "plt.plot(fpr, tpr, alpha=0.8, linewidth=2.0,label='NN with Node2Vec and perception featers (area = %0.2f)' % (logit_roc_auc))\n",
    "\n",
    "logit_roc_auc = roc_auc_score(y_val, M1.predict(X_val[:,cols_to_keep]))\n",
    "fpr, tpr, thresholds = roc_curve(y_val, M1.predict_proba(X_val[:,cols_to_keep]))\n",
    "plt.plot(fpr, tpr, alpha=0.8, linewidth=2.0,label='NN without Node2Vec features (area = %0.2f)' % (logit_roc_auc))\n",
    "\n",
    "logit_roc_auc = roc_auc_score(y_val, M2.predict(X_val))\n",
    "fpr, tpr, thresholds = roc_curve(y_val, M2.predict_proba(X_val)[:,1])\n",
    "plt.plot(fpr, tpr, alpha=0.8, linewidth=2.0,label='LR with both the features (area = %0.2f)' % (logit_roc_auc))\n",
    "\n",
    "logit_roc_auc = roc_auc_score(y_val, M3.predict(X_val[:,cols_to_keep]))\n",
    "fpr, tpr, thresholds = roc_curve(y_val, M3.predict_proba(X_val[:,cols_to_keep])[:,1])\n",
    "plt.plot(fpr, tpr, alpha=0.8, linewidth=2.0,label='LR with only perception score features (area = %0.2f)' % (logit_roc_auc))\n",
    "\n",
    "plt.plot([0, 1], [0, 1],'r--')\n",
    "plt.xlim([0.0, 1.0])\n",
    "plt.ylim([0.0, 1.05])\n",
    "plt.xlabel('False Positive Rate')\n",
    "plt.ylabel('True Positive Rate')\n",
    "\n",
    "plt.legend(loc=\"lower right\")\n",
    "plt.savefig('ROC_performance.png')\n"
   ]
  },
  {
   "cell_type": "code",
   "execution_count": 78,
   "metadata": {},
   "outputs": [],
   "source": [
    "#kfold cross validation \n",
    "\n",
    "\n",
    "'''from sklearn.model_selection import StratifiedKFold\n",
    "import numpy\n",
    "# fix random seed for reproducibility\n",
    "seed = 7\n",
    "numpy.random.seed(seed)\n",
    "\n",
    "# split into input (X) and output (Y) variables\n",
    "X_1 = X[:,0:8]\n",
    "y_1 = y[:,]\n",
    "# define 10-fold cross validation test harness\n",
    "\n",
    "kfold = StratifiedKFold(n_splits=10, shuffle=True, random_state=seed)\n",
    "cvscores = []\n",
    "for train, test in kfold.split(X_1, y_1):\n",
    "  # create model\n",
    "    model = Sequential()\n",
    "    model.add(Dense(12, input_dim=8, activation='relu'))\n",
    "    model.add(Dense(8, activation='relu'))\n",
    "    model.add(Dense(1, activation='sigmoid'))\n",
    "    # Compile model\n",
    "    model.compile(loss='binary_crossentropy', optimizer='adam', metrics=['accuracy'])\n",
    "    # Fit the model\n",
    "    model.fit(X_1[train], y_1[train], epochs=150, batch_size=10, verbose=0)\n",
    "    # evaluate the model\n",
    "    scores = model.evaluate(X_1[test], y_1[test], verbose=0)\n",
    "    print(\"%s: %.2f%%\" % (model.metrics_names[1], scores[1]*100))\n",
    "    cvscores.append(scores[1] * 100)\n",
    "print(\"%.2f%% (+/- %.2f%%)\" % (numpy.mean(cvscores), numpy.std(cvscores)))'''\n"
   ]
  },
  {
   "cell_type": "code",
   "execution_count": null,
   "metadata": {},
   "outputs": [],
   "source": []
  }
 ],
 "metadata": {
  "kernelspec": {
   "display_name": "Python 3",
   "language": "python",
   "name": "python3"
  },
  "language_info": {
   "codemirror_mode": {
    "name": "ipython",
    "version": 3
   },
   "file_extension": ".py",
   "mimetype": "text/x-python",
   "name": "python",
   "nbconvert_exporter": "python",
   "pygments_lexer": "ipython3",
   "version": "3.7.3"
  }
 },
 "nbformat": 4,
 "nbformat_minor": 2
}
